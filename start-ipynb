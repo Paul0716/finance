# !/bin/bash

# start serving jupyter notebook 
docker run --rm -d -p 10000:8888 -v "$PWD":/home/jovyan/work jupyter/scipy-notebook